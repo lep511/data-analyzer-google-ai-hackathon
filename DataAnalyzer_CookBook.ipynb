{
  "nbformat": 4,
  "nbformat_minor": 0,
  "metadata": {
    "colab": {
      "provenance": []
    },
    "kernelspec": {
      "name": "python3",
      "display_name": "Python 3"
    },
    "language_info": {
      "name": "python"
    }
  },
  "cells": [
    {
      "cell_type": "code",
      "source": [
        "!git clone https://github.com/lep511/data-analyzer-google-ai-hackathon.git\n",
        "!pip install -q -r data-analyzer-google-ai-hackathon/requirements.txt"
      ],
      "metadata": {
        "colab": {
          "base_uri": "https://localhost:8080/"
        },
        "id": "nvMK6vNoMVn_",
        "outputId": "8b4484ce-c3db-4721-c400-88de8a6b61d4"
      },
      "execution_count": 6,
      "outputs": [
        {
          "output_type": "stream",
          "name": "stdout",
          "text": [
            "fatal: destination path 'data-analyzer-google-ai-hackathon' already exists and is not an empty directory.\n"
          ]
        }
      ]
    },
    {
      "cell_type": "code",
      "source": [
        "from google.colab import userdata\n",
        "import sys\n",
        "sys.path.append('data-analyzer-google-ai-hackathon/')\n",
        "from data_analyer_main import data_analyzer\n",
        "\n",
        "G_API_KEY = userdata.get('GEMINI_API_KEY')"
      ],
      "metadata": {
        "id": "tWO3Rsfw6VBs"
      },
      "execution_count": 2,
      "outputs": []
    },
    {
      "cell_type": "code",
      "source": [
        "file_name = \"data-analyzer-google-ai-hackathon/Retail_Transaction_Dataset.csv\" # @param {type:\"string\"}"
      ],
      "metadata": {
        "id": "NQidKKuhOiZ7",
        "cellView": "form"
      },
      "execution_count": 4,
      "outputs": []
    },
    {
      "cell_type": "code",
      "source": [
        "data_analyzer(file_name, G_API_KEY)"
      ],
      "metadata": {
        "colab": {
          "base_uri": "https://localhost:8080/",
          "height": 173
        },
        "id": "k4_9OkmPw4zQ",
        "outputId": "6370c6a4-23fe-4482-9015-f37d69697627"
      },
      "execution_count": 5,
      "outputs": [
        {
          "output_type": "stream",
          "name": "stdout",
          "text": [
            "Analyzing the format of the file...\n",
            "File type analyzed successfully.\n",
            "Analyzing the data of the file. This may take a few minutes...\n",
            "Generating data visualization techniques for data analysis of this file...\n",
            "Generating data optimization report in pandas...\n",
            "File data analyzed successfully.\n",
            "Generating the report...\n",
            "Report generated successfully.\n",
            "Report data-analysis-dd3202eb-943a-42da-ad35-4cf2bf959926.pdf saved in the current directory.\n"
          ]
        }
      ]
    }
  ]
}